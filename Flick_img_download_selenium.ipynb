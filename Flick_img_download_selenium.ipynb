{
  "nbformat": 4,
  "nbformat_minor": 0,
  "metadata": {
    "colab": {
      "name": "Untitled0.ipynb",
      "provenance": [],
      "collapsed_sections": [],
      "authorship_tag": "ABX9TyOgzYTQ2E8rNx1kJTyVwCBd",
      "include_colab_link": true
    },
    "kernelspec": {
      "display_name": "Python 3",
      "name": "python3"
    }
  },
  "cells": [
    {
      "cell_type": "markdown",
      "metadata": {
        "id": "view-in-github",
        "colab_type": "text"
      },
      "source": [
        "<a href=\"https://colab.research.google.com/github/hoakhongmau98/Flickr_img_download/blob/master/Flick_img_download_selenium.ipynb\" target=\"_parent\"><img src=\"https://colab.research.google.com/assets/colab-badge.svg\" alt=\"Open In Colab\"/></a>"
      ]
    },
    {
      "cell_type": "code",
      "metadata": {
        "colab": {
          "base_uri": "https://localhost:8080/"
        },
        "id": "sZ0iH3dFz1YX",
        "outputId": "8373667b-9e88-4e68-df0f-4d5e7bc8b9a8"
      },
      "source": [
        "from google.colab import drive\r\n",
        "drive.mount('/content/gdirve')"
      ],
      "execution_count": null,
      "outputs": [
        {
          "output_type": "stream",
          "text": [
            "Mounted at /content/gdirve\n"
          ],
          "name": "stdout"
        }
      ]
    },
    {
      "cell_type": "code",
      "metadata": {
        "colab": {
          "base_uri": "https://localhost:8080/"
        },
        "id": "h4Lx_UeSz2Ke",
        "outputId": "c547d824-8bb6-4154-90e5-b33f7c7a4265"
      },
      "source": [
        "cd /content/gdirve/My Drive/Colab Notebooks/flickselenium"
      ],
      "execution_count": null,
      "outputs": [
        {
          "output_type": "stream",
          "text": [
            "/content/gdirve/My Drive/Colab Notebooks/flickselenium\n"
          ],
          "name": "stdout"
        }
      ]
    },
    {
      "cell_type": "code",
      "metadata": {
        "colab": {
          "base_uri": "https://localhost:8080/"
        },
        "id": "8Zhbibw5Qau0",
        "outputId": "7e6f72ca-1011-4061-9e05-08f19bbd5340"
      },
      "source": [
        "pip install selenium"
      ],
      "execution_count": null,
      "outputs": [
        {
          "output_type": "stream",
          "text": [
            "Collecting selenium\n",
            "\u001b[?25l  Downloading https://files.pythonhosted.org/packages/80/d6/4294f0b4bce4de0abf13e17190289f9d0613b0a44e5dd6a7f5ca98459853/selenium-3.141.0-py2.py3-none-any.whl (904kB)\n",
            "\r\u001b[K     |▍                               | 10kB 15.6MB/s eta 0:00:01\r\u001b[K     |▊                               | 20kB 21.7MB/s eta 0:00:01\r\u001b[K     |█                               | 30kB 13.2MB/s eta 0:00:01\r\u001b[K     |█▌                              | 40kB 10.5MB/s eta 0:00:01\r\u001b[K     |█▉                              | 51kB 8.8MB/s eta 0:00:01\r\u001b[K     |██▏                             | 61kB 8.6MB/s eta 0:00:01\r\u001b[K     |██▌                             | 71kB 8.8MB/s eta 0:00:01\r\u001b[K     |███                             | 81kB 8.9MB/s eta 0:00:01\r\u001b[K     |███▎                            | 92kB 9.0MB/s eta 0:00:01\r\u001b[K     |███▋                            | 102kB 9.2MB/s eta 0:00:01\r\u001b[K     |████                            | 112kB 9.2MB/s eta 0:00:01\r\u001b[K     |████▍                           | 122kB 9.2MB/s eta 0:00:01\r\u001b[K     |████▊                           | 133kB 9.2MB/s eta 0:00:01\r\u001b[K     |█████                           | 143kB 9.2MB/s eta 0:00:01\r\u001b[K     |█████▍                          | 153kB 9.2MB/s eta 0:00:01\r\u001b[K     |█████▉                          | 163kB 9.2MB/s eta 0:00:01\r\u001b[K     |██████▏                         | 174kB 9.2MB/s eta 0:00:01\r\u001b[K     |██████▌                         | 184kB 9.2MB/s eta 0:00:01\r\u001b[K     |██████▉                         | 194kB 9.2MB/s eta 0:00:01\r\u001b[K     |███████▎                        | 204kB 9.2MB/s eta 0:00:01\r\u001b[K     |███████▋                        | 215kB 9.2MB/s eta 0:00:01\r\u001b[K     |████████                        | 225kB 9.2MB/s eta 0:00:01\r\u001b[K     |████████▎                       | 235kB 9.2MB/s eta 0:00:01\r\u001b[K     |████████▊                       | 245kB 9.2MB/s eta 0:00:01\r\u001b[K     |█████████                       | 256kB 9.2MB/s eta 0:00:01\r\u001b[K     |█████████▍                      | 266kB 9.2MB/s eta 0:00:01\r\u001b[K     |█████████▉                      | 276kB 9.2MB/s eta 0:00:01\r\u001b[K     |██████████▏                     | 286kB 9.2MB/s eta 0:00:01\r\u001b[K     |██████████▌                     | 296kB 9.2MB/s eta 0:00:01\r\u001b[K     |██████████▉                     | 307kB 9.2MB/s eta 0:00:01\r\u001b[K     |███████████▎                    | 317kB 9.2MB/s eta 0:00:01\r\u001b[K     |███████████▋                    | 327kB 9.2MB/s eta 0:00:01\r\u001b[K     |████████████                    | 337kB 9.2MB/s eta 0:00:01\r\u001b[K     |████████████▎                   | 348kB 9.2MB/s eta 0:00:01\r\u001b[K     |████████████▊                   | 358kB 9.2MB/s eta 0:00:01\r\u001b[K     |█████████████                   | 368kB 9.2MB/s eta 0:00:01\r\u001b[K     |█████████████▍                  | 378kB 9.2MB/s eta 0:00:01\r\u001b[K     |█████████████▊                  | 389kB 9.2MB/s eta 0:00:01\r\u001b[K     |██████████████▏                 | 399kB 9.2MB/s eta 0:00:01\r\u001b[K     |██████████████▌                 | 409kB 9.2MB/s eta 0:00:01\r\u001b[K     |██████████████▉                 | 419kB 9.2MB/s eta 0:00:01\r\u001b[K     |███████████████▏                | 430kB 9.2MB/s eta 0:00:01\r\u001b[K     |███████████████▋                | 440kB 9.2MB/s eta 0:00:01\r\u001b[K     |████████████████                | 450kB 9.2MB/s eta 0:00:01\r\u001b[K     |████████████████▎               | 460kB 9.2MB/s eta 0:00:01\r\u001b[K     |████████████████▋               | 471kB 9.2MB/s eta 0:00:01\r\u001b[K     |█████████████████               | 481kB 9.2MB/s eta 0:00:01\r\u001b[K     |█████████████████▍              | 491kB 9.2MB/s eta 0:00:01\r\u001b[K     |█████████████████▊              | 501kB 9.2MB/s eta 0:00:01\r\u001b[K     |██████████████████▏             | 512kB 9.2MB/s eta 0:00:01\r\u001b[K     |██████████████████▌             | 522kB 9.2MB/s eta 0:00:01\r\u001b[K     |██████████████████▉             | 532kB 9.2MB/s eta 0:00:01\r\u001b[K     |███████████████████▏            | 542kB 9.2MB/s eta 0:00:01\r\u001b[K     |███████████████████▋            | 552kB 9.2MB/s eta 0:00:01\r\u001b[K     |████████████████████            | 563kB 9.2MB/s eta 0:00:01\r\u001b[K     |████████████████████▎           | 573kB 9.2MB/s eta 0:00:01\r\u001b[K     |████████████████████▋           | 583kB 9.2MB/s eta 0:00:01\r\u001b[K     |█████████████████████           | 593kB 9.2MB/s eta 0:00:01\r\u001b[K     |█████████████████████▍          | 604kB 9.2MB/s eta 0:00:01\r\u001b[K     |█████████████████████▊          | 614kB 9.2MB/s eta 0:00:01\r\u001b[K     |██████████████████████          | 624kB 9.2MB/s eta 0:00:01\r\u001b[K     |██████████████████████▌         | 634kB 9.2MB/s eta 0:00:01\r\u001b[K     |██████████████████████▉         | 645kB 9.2MB/s eta 0:00:01\r\u001b[K     |███████████████████████▏        | 655kB 9.2MB/s eta 0:00:01\r\u001b[K     |███████████████████████▌        | 665kB 9.2MB/s eta 0:00:01\r\u001b[K     |████████████████████████        | 675kB 9.2MB/s eta 0:00:01\r\u001b[K     |████████████████████████▎       | 686kB 9.2MB/s eta 0:00:01\r\u001b[K     |████████████████████████▋       | 696kB 9.2MB/s eta 0:00:01\r\u001b[K     |█████████████████████████       | 706kB 9.2MB/s eta 0:00:01\r\u001b[K     |█████████████████████████▍      | 716kB 9.2MB/s eta 0:00:01\r\u001b[K     |█████████████████████████▊      | 727kB 9.2MB/s eta 0:00:01\r\u001b[K     |██████████████████████████      | 737kB 9.2MB/s eta 0:00:01\r\u001b[K     |██████████████████████████▍     | 747kB 9.2MB/s eta 0:00:01\r\u001b[K     |██████████████████████████▉     | 757kB 9.2MB/s eta 0:00:01\r\u001b[K     |███████████████████████████▏    | 768kB 9.2MB/s eta 0:00:01\r\u001b[K     |███████████████████████████▌    | 778kB 9.2MB/s eta 0:00:01\r\u001b[K     |████████████████████████████    | 788kB 9.2MB/s eta 0:00:01\r\u001b[K     |████████████████████████████▎   | 798kB 9.2MB/s eta 0:00:01\r\u001b[K     |████████████████████████████▋   | 808kB 9.2MB/s eta 0:00:01\r\u001b[K     |█████████████████████████████   | 819kB 9.2MB/s eta 0:00:01\r\u001b[K     |█████████████████████████████▍  | 829kB 9.2MB/s eta 0:00:01\r\u001b[K     |█████████████████████████████▊  | 839kB 9.2MB/s eta 0:00:01\r\u001b[K     |██████████████████████████████  | 849kB 9.2MB/s eta 0:00:01\r\u001b[K     |██████████████████████████████▍ | 860kB 9.2MB/s eta 0:00:01\r\u001b[K     |██████████████████████████████▉ | 870kB 9.2MB/s eta 0:00:01\r\u001b[K     |███████████████████████████████▏| 880kB 9.2MB/s eta 0:00:01\r\u001b[K     |███████████████████████████████▌| 890kB 9.2MB/s eta 0:00:01\r\u001b[K     |███████████████████████████████▉| 901kB 9.2MB/s eta 0:00:01\r\u001b[K     |████████████████████████████████| 911kB 9.2MB/s \n",
            "\u001b[?25hRequirement already satisfied: urllib3 in /usr/local/lib/python3.6/dist-packages (from selenium) (1.24.3)\n",
            "Installing collected packages: selenium\n",
            "Successfully installed selenium-3.141.0\n"
          ],
          "name": "stdout"
        }
      ]
    },
    {
      "cell_type": "code",
      "metadata": {
        "colab": {
          "base_uri": "https://localhost:8080/"
        },
        "id": "xS58i9yg0OFJ",
        "outputId": "4a59032b-138e-4a8e-9570-474ebe2fe9a1"
      },
      "source": [
        "!apt install chromium-chromedriver"
      ],
      "execution_count": null,
      "outputs": [
        {
          "output_type": "stream",
          "text": [
            "Reading package lists... Done\n",
            "Building dependency tree       \n",
            "Reading state information... Done\n",
            "The following additional packages will be installed:\n",
            "  chromium-browser chromium-browser-l10n chromium-codecs-ffmpeg-extra\n",
            "Suggested packages:\n",
            "  webaccounts-chromium-extension unity-chromium-extension adobe-flashplugin\n",
            "The following NEW packages will be installed:\n",
            "  chromium-browser chromium-browser-l10n chromium-chromedriver\n",
            "  chromium-codecs-ffmpeg-extra\n",
            "0 upgraded, 4 newly installed, 0 to remove and 13 not upgraded.\n",
            "Need to get 81.0 MB of archives.\n",
            "After this operation, 273 MB of additional disk space will be used.\n",
            "Get:1 http://archive.ubuntu.com/ubuntu bionic-updates/universe amd64 chromium-codecs-ffmpeg-extra amd64 87.0.4280.66-0ubuntu0.18.04.1 [1,122 kB]\n",
            "Get:2 http://archive.ubuntu.com/ubuntu bionic-updates/universe amd64 chromium-browser amd64 87.0.4280.66-0ubuntu0.18.04.1 [71.7 MB]\n",
            "Get:3 http://archive.ubuntu.com/ubuntu bionic-updates/universe amd64 chromium-browser-l10n all 87.0.4280.66-0ubuntu0.18.04.1 [3,716 kB]\n",
            "Get:4 http://archive.ubuntu.com/ubuntu bionic-updates/universe amd64 chromium-chromedriver amd64 87.0.4280.66-0ubuntu0.18.04.1 [4,488 kB]\n",
            "Fetched 81.0 MB in 5s (15.1 MB/s)\n",
            "Selecting previously unselected package chromium-codecs-ffmpeg-extra.\n",
            "(Reading database ... 146374 files and directories currently installed.)\n",
            "Preparing to unpack .../chromium-codecs-ffmpeg-extra_87.0.4280.66-0ubuntu0.18.04.1_amd64.deb ...\n",
            "Unpacking chromium-codecs-ffmpeg-extra (87.0.4280.66-0ubuntu0.18.04.1) ...\n",
            "Selecting previously unselected package chromium-browser.\n",
            "Preparing to unpack .../chromium-browser_87.0.4280.66-0ubuntu0.18.04.1_amd64.deb ...\n",
            "Unpacking chromium-browser (87.0.4280.66-0ubuntu0.18.04.1) ...\n",
            "Selecting previously unselected package chromium-browser-l10n.\n",
            "Preparing to unpack .../chromium-browser-l10n_87.0.4280.66-0ubuntu0.18.04.1_all.deb ...\n",
            "Unpacking chromium-browser-l10n (87.0.4280.66-0ubuntu0.18.04.1) ...\n",
            "Selecting previously unselected package chromium-chromedriver.\n",
            "Preparing to unpack .../chromium-chromedriver_87.0.4280.66-0ubuntu0.18.04.1_amd64.deb ...\n",
            "Unpacking chromium-chromedriver (87.0.4280.66-0ubuntu0.18.04.1) ...\n",
            "Setting up chromium-codecs-ffmpeg-extra (87.0.4280.66-0ubuntu0.18.04.1) ...\n",
            "Setting up chromium-browser (87.0.4280.66-0ubuntu0.18.04.1) ...\n",
            "update-alternatives: using /usr/bin/chromium-browser to provide /usr/bin/x-www-browser (x-www-browser) in auto mode\n",
            "update-alternatives: using /usr/bin/chromium-browser to provide /usr/bin/gnome-www-browser (gnome-www-browser) in auto mode\n",
            "Setting up chromium-chromedriver (87.0.4280.66-0ubuntu0.18.04.1) ...\n",
            "Setting up chromium-browser-l10n (87.0.4280.66-0ubuntu0.18.04.1) ...\n",
            "Processing triggers for hicolor-icon-theme (0.17-2) ...\n",
            "Processing triggers for mime-support (3.60ubuntu1) ...\n",
            "Processing triggers for man-db (2.8.3-2ubuntu0.1) ...\n"
          ],
          "name": "stdout"
        }
      ]
    },
    {
      "cell_type": "code",
      "metadata": {
        "colab": {
          "base_uri": "https://localhost:8080/"
        },
        "id": "k8I1pAFp0P40",
        "outputId": "d2bd6e33-d9d9-488e-baa1-8ed22f883c54"
      },
      "source": [
        "from selenium import webdriver\r\n",
        "from selenium.webdriver.common.keys import Keys\r\n",
        "from time import sleep\r\n",
        "from urllib import request\r\n",
        "import time\r\n",
        "import urllib.request\r\n",
        "import requests\r\n",
        "from bs4 import BeautifulSoup\r\n",
        "import os\r\n",
        "\r\n",
        "\r\n",
        "input_arg = input(print('Paste link in herre: '))\r\n",
        "start = time.time()\r\n",
        "try:\r\n",
        "    os.mkdir('img')\r\n",
        "except:\r\n",
        "    None\r\n",
        "# 1. Khai bao bien browser\r\n",
        "options = webdriver.ChromeOptions()\r\n",
        "options.add_argument('--headless')\r\n",
        "options.add_argument('--no-sandbox')\r\n",
        "options.add_argument('--disable-dev-shm-usage')\r\n",
        "driver = webdriver.Chrome('chromedriver', options=options)\r\n",
        "driver.maximize_window()\r\n",
        "\r\n",
        "# 2. Mo thu trang web\r\n",
        "# photostream\r\n",
        "# driver.get('https://www.flickr.com/photos/50419993@N05/')\r\n",
        "# albums\r\n",
        "# driver.get('https://www.flickr.com/photos/trongveostudio/albums')\r\n",
        "# link image in album\r\n",
        "# driver.get('https://www.flickr.com/photos/trongveostudio/albums/72157717734242086')\r\n",
        "# link image\r\n",
        "# driver.get('https://www.flickr.com/photos/trongveostudio/50803423127/in/album-72157717734242086/')\r\n",
        "# driver.get('https://www.flickr.com/photos/trongveostudio/50803423127/sizes/l/')\r\n",
        "# link affter find large image\r\n",
        "# driver.get('https://www.flickr.com/photos/trongveostudio/50803423127/sizes/h/')\r\n",
        "\r\n",
        "# 3. SLeep trong 5s\r\n",
        "# sleep(5)\r\n",
        "# driver.execute_script(\"window.scrollTo(0, document.body.scrollHeight);\")\r\n",
        "# sleep(5)\r\n",
        "# driver.execute_script(\"window.scrollTo(0, document.body.scrollHeight);\")\r\n",
        "\r\n",
        "# get link image on photostream page\r\n",
        "# htmllist = driver.find_elements_by_class_name('photo-list-photo-interaction')\r\n",
        "# for div_tag in htmllist:\r\n",
        "#     a_tag = div_tag.find_element_by_tag_name('a')\r\n",
        "#     index = htmllist.index(div_tag)\r\n",
        "#     print(a_tag.get_attribute('href'), index)\r\n",
        "\r\n",
        "# get list album\r\n",
        "# albumlist = driver.find_elements_by_class_name('photo-list-album-view')\r\n",
        "# for div_tag in albumlist:\r\n",
        "#     index = albumlist.index(div_tag)\r\n",
        "#     a_tag = div_tag.find_element_by_tag_name('a')\r\n",
        "#     print(a_tag.get_attribute('href'), index)\r\n",
        "\r\n",
        "# get size\r\n",
        "# ollist = driver.find_element_by_class_name('sizes-list')\r\n",
        "# a_tag = ollist.find_elements_by_tag_name('a')\r\n",
        "# print(a_tag[-1].get_attribute('href'))\r\n",
        "\r\n",
        "# get image\r\n",
        "# divlist = driver.find_element_by_id('allsizes-photo')\r\n",
        "# img_tag = divlist.find_element_by_tag_name('img')\r\n",
        "# print(img_tag.get_attribute('src'))\r\n",
        "\r\n",
        "\r\n",
        "\r\n",
        "def get_id_img(link_album, auth_name):\r\n",
        "    # link_album = \"https://www.flickr.com/photos/trongveostudio/albums/72157712813955698\"\r\n",
        "    # atract web to get the first id img\r\n",
        "\r\n",
        "    lst_images = []\r\n",
        "    # link_text = link_album.split('/')\r\n",
        "    driver = webdriver.Chrome('chromedriver', options=options)\r\n",
        "    driver.maximize_window()\r\n",
        "    driver.get(link_album)\r\n",
        "    name_album = driver.title\r\n",
        "    # scoll page\r\n",
        "    sleep(1)\r\n",
        "    driver.execute_script(\"window.scrollTo(0, document.body.scrollHeight);\")\r\n",
        "    sleep(1)\r\n",
        "    driver.execute_script(\"window.scrollTo(0, document.body.scrollHeight);\")\r\n",
        "    # find div_tags\r\n",
        "    div_tags = driver.find_elements_by_class_name('photo-list-photo-interaction')\r\n",
        "    # GET LINK IMAGE\r\n",
        "    if auth_name == 'No auth':\r\n",
        "        direct = 'img/'+name_album\r\n",
        "    else:\r\n",
        "        direct = 'img/'+auth_name+'/'+name_album\r\n",
        "    try: \r\n",
        "        os.mkdir(direct)\r\n",
        "    except:\r\n",
        "        None\r\n",
        "    print('link_img: ', len(div_tags))\r\n",
        "    print('-'*80)\r\n",
        "    for div_tag in div_tags:\r\n",
        "        a_tag = div_tag.find_element_by_tag_name('a')\r\n",
        "        index = div_tags.index(div_tag)\r\n",
        "        print(a_tag.get_attribute('href'), index)\r\n",
        "        img_link = a_tag.get_attribute('href')\r\n",
        "        img_link = img_link.split('/')[:6] + ['sizes', 's']\r\n",
        "        img_link = '/'.join(img_link) \r\n",
        "        lst_images.append(img_link)\r\n",
        "    driver.close()\r\n",
        "    find_size_download(lst_images, direct)\r\n",
        "\r\n",
        "def find_size_download(lst_images, direct):\r\n",
        "    for img_link in lst_images:\r\n",
        "        driver = webdriver.Chrome('chromedriver', options=options)\r\n",
        "        driver.maximize_window()\r\n",
        "        driver.get(img_link)\r\n",
        "        # get size\r\n",
        "        ollist = driver.find_element_by_class_name('sizes-list')\r\n",
        "        a_tag = ollist.find_elements_by_tag_name('a')\r\n",
        "        # print(a_tag[-1].get_attribute('href'))\r\n",
        "        a_tag = a_tag[-1].get_attribute('href')\r\n",
        "        driver.close()\r\n",
        "        download_img(a_tag, direct)\r\n",
        "\r\n",
        "\r\n",
        "# Download img\r\n",
        "def download_img(a_tag, direct):\r\n",
        "    # link_img = \"https://www.flickr.com/photos/trongveostudio/49433490728/sizes/h/\"\r\n",
        "    source = urllib.request.urlopen(a_tag)\r\n",
        "    soup = BeautifulSoup(source)\r\n",
        "    div_list = soup.find_all('img')\r\n",
        "    # print(div_list[2].attrs['src'])\r\n",
        "    link_direct = direct+'/'+str(a_tag.split('/')[5])+'.jpg'\r\n",
        "    with open(link_direct, mode='wb') as f:\r\n",
        "        respons = requests.get(div_list[2].attrs['src'])\r\n",
        "        f.write(respons.content)\r\n",
        "\r\n",
        "\r\n",
        "def albums(input_arg):\r\n",
        "    lst_albums = []\r\n",
        "    driver.get(input_arg)\r\n",
        "    albumlist = driver.find_elements_by_class_name('photo-list-album-view')\r\n",
        "    auth_name = driver.title\r\n",
        "    try:\r\n",
        "        os.mkdir('img/' + auth_name)\r\n",
        "    except:\r\n",
        "        None\r\n",
        "    # 3. SLeep trong 5s\r\n",
        "    sleep(1)\r\n",
        "    driver.execute_script(\"window.scrollTo(0, document.body.scrollHeight);\")\r\n",
        "    sleep(1)\r\n",
        "    driver.execute_script(\"window.scrollTo(0, document.body.scrollHeight);\")\r\n",
        "    sleep(1)\r\n",
        "    driver.execute_script(\"window.scrollTo(0, document.body.scrollHeight);\")\r\n",
        "    for div_tag in albumlist:\r\n",
        "        index = albumlist.index(div_tag)\r\n",
        "        a_tag = div_tag.find_element_by_tag_name('a')\r\n",
        "        # print(a_tag.get_attribute('href'), index)\r\n",
        "        lst_albums.append(a_tag.get_attribute('href'))\r\n",
        "    driver.close()\r\n",
        "    for i in lst_albums:\r\n",
        "        print('-'*80)\r\n",
        "        print('Link album:')\r\n",
        "        print(i)\r\n",
        "        get_id_img(i, auth_name)\r\n",
        "\r\n",
        "\r\n",
        "def single_album(input_arg):\r\n",
        "    auth_name = 'No auth'\r\n",
        "    get_id_img(input_arg, auth_name)\r\n",
        "\r\n",
        "if '/in/' in input_arg:\r\n",
        "    img_link = input_arg.split('/')[:6] + ['sizes', 's']\r\n",
        "    img_link = '/'.join(img_link)\r\n",
        "    lst_images = [img_link]\r\n",
        "    direct = 'img'\r\n",
        "    print('-'*80)\r\n",
        "    print(img_link)\r\n",
        "    find_size_download(lst_images,direct)\r\n",
        "elif len(input_arg.split('/')) == 6:\r\n",
        "    print('-'*80)\r\n",
        "    albums(input_arg)\r\n",
        "elif  len(input_arg.split('/')) == 7: \r\n",
        "    print('-'*80)\r\n",
        "    single_album(input_arg)\r\n",
        "\r\n",
        "\r\n",
        "print((time.time()-start))\r\n"
      ],
      "execution_count": null,
      "outputs": [
        {
          "output_type": "stream",
          "text": [
            "Paste link in herre: \n",
            "https://www.flickr.com/photos/141999143@N03/48939323118/in/dateposted/\n",
            "--------------------------------------------------------------------------------\n",
            "https://www.flickr.com/photos/141999143@N03/48939323118/sizes/s\n",
            "4.881875276565552\n"
          ],
          "name": "stdout"
        }
      ]
    },
    {
      "cell_type": "code",
      "metadata": {
        "colab": {
          "base_uri": "https://localhost:8080/"
        },
        "id": "EVeQJjF80vxG",
        "outputId": "62b24d4b-8925-4d00-e7ec-8998a4b2a603"
      },
      "source": [
        "a = 'https://www.flickr.com/photos/trongveostudio/50744639916/in/album-72157717456521131/'\r\n",
        "a=a.split('/')[5]\r\n",
        "print(a)"
      ],
      "execution_count": null,
      "outputs": [
        {
          "output_type": "stream",
          "text": [
            "50744639916\n"
          ],
          "name": "stdout"
        }
      ]
    },
    {
      "cell_type": "code",
      "metadata": {
        "colab": {
          "base_uri": "https://localhost:8080/"
        },
        "id": "dRKCBsX3tbpl",
        "outputId": "47ad6d12-cd53-4309-b61a-4a0cae59c836"
      },
      "source": [
        "find_size_download('https://www.flickr.com/photos/trongveostudio/50744639916/sizes/s')"
      ],
      "execution_count": null,
      "outputs": [
        {
          "output_type": "stream",
          "text": [
            "https://www.flickr.com/photos/trongveostudio/50744639916/sizes/h/\n"
          ],
          "name": "stdout"
        }
      ]
    },
    {
      "cell_type": "code",
      "metadata": {
        "id": "qIM1z-xs7v1L"
      },
      "source": [
        "get_id_img('https://www.flickr.com/photos/trongveostudio/albums/72157712813955698', 'Trong Veo Studio')"
      ],
      "execution_count": null,
      "outputs": []
    },
    {
      "cell_type": "code",
      "metadata": {
        "id": "-Gwlz1Z-RbnW",
        "colab": {
          "base_uri": "https://localhost:8080/",
          "height": 163
        },
        "outputId": "70c0d9ad-e2c3-488a-ae4d-dca4d5c4bc10"
      },
      "source": [
        "input('here: ')"
      ],
      "execution_count": null,
      "outputs": [
        {
          "output_type": "error",
          "ename": "TypeError",
          "evalue": "ignored",
          "traceback": [
            "\u001b[0;31m---------------------------------------------------------------------------\u001b[0m",
            "\u001b[0;31mTypeError\u001b[0m                                 Traceback (most recent call last)",
            "\u001b[0;32m<ipython-input-15-a1b1210ad761>\u001b[0m in \u001b[0;36m<module>\u001b[0;34m()\u001b[0m\n\u001b[0;32m----> 1\u001b[0;31m \u001b[0minput\u001b[0m\u001b[0;34m(\u001b[0m\u001b[0;34m'here: '\u001b[0m\u001b[0;34m)\u001b[0m\u001b[0;34m\u001b[0m\u001b[0;34m\u001b[0m\u001b[0m\n\u001b[0m",
            "\u001b[0;31mTypeError\u001b[0m: 'str' object is not callable"
          ]
        }
      ]
    },
    {
      "cell_type": "code",
      "metadata": {
        "id": "PQtxuC9xgkHN",
        "colab": {
          "base_uri": "https://localhost:8080/"
        },
        "outputId": "c1f35a1b-5de9-434b-9a4f-d423feb83d5d"
      },
      "source": [
        "a = 'https://www.flickr.com/photos/trongveostudio/albums'\r\n",
        "a = a.split('/')\r\n",
        "len(a)"
      ],
      "execution_count": null,
      "outputs": [
        {
          "output_type": "execute_result",
          "data": {
            "text/plain": [
              "6"
            ]
          },
          "metadata": {
            "tags": []
          },
          "execution_count": 11
        }
      ]
    },
    {
      "cell_type": "code",
      "metadata": {
        "id": "zl6CZ3D1kub4"
      },
      "source": [
        ""
      ],
      "execution_count": null,
      "outputs": []
    }
  ]
}